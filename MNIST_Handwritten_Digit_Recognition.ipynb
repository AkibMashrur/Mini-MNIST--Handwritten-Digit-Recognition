{
  "nbformat": 4,
  "nbformat_minor": 0,
  "metadata": {
    "colab": {
      "name": "MNIST Handwritten Digit Recognition.ipynb",
      "version": "0.3.2",
      "provenance": [],
      "collapsed_sections": []
    },
    "kernelspec": {
      "name": "python3",
      "display_name": "Python 3"
    }
  },
  "cells": [
    {
      "metadata": {
        "id": "0F3cZ2sfWvTM",
        "colab_type": "code",
        "colab": {
          "resources": {
            "http://localhost:8080/nbextensions/google.colab/files.js": {
              "data": "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",
              "ok": true,
              "headers": [
                [
                  "content-type",
                  "application/javascript"
                ]
              ],
              "status": 200,
              "status_text": ""
            }
          },
          "base_uri": "https://localhost:8080/",
          "height": 89
        },
        "outputId": "ec84f57d-a55a-4a15-d22a-60c0d283c3f8"
      },
      "cell_type": "code",
      "source": [
        "from google.colab import files\n",
        "\n",
        "uploaded = files.upload()\n",
        "\n",
        "for fn in uploaded.keys():\n",
        "  print('User uploaded file \"{name}\" with length {length} bytes'.format(\n",
        "      name=fn, length=len(uploaded[fn])))"
      ],
      "execution_count": 4,
      "outputs": [
        {
          "output_type": "display_data",
          "data": {
            "text/html": [
              "\n",
              "     <input type=\"file\" id=\"files-5fc0a968-669f-47eb-b684-fcbbc72aeae8\" name=\"files[]\" multiple disabled />\n",
              "     <output id=\"result-5fc0a968-669f-47eb-b684-fcbbc72aeae8\">\n",
              "      Upload widget is only available when the cell has been executed in the\n",
              "      current browser session. Please rerun this cell to enable.\n",
              "      </output>\n",
              "      <script src=\"/nbextensions/google.colab/files.js\"></script> "
            ],
            "text/plain": [
              "<IPython.core.display.HTML object>"
            ]
          },
          "metadata": {
            "tags": []
          }
        },
        {
          "output_type": "stream",
          "text": [
            "Saving reduced_mnist.csv to reduced_mnist.csv\n",
            "User uploaded file \"reduced_mnist.csv\" with length 4610614 bytes\n"
          ],
          "name": "stdout"
        }
      ]
    },
    {
      "metadata": {
        "id": "Vl9kL6VFHhs3",
        "colab_type": "text"
      },
      "cell_type": "markdown",
      "source": [
        "A small subset of MNIST dataset for handwritten digits has been used in this part for multiclass-classification. \n",
        "\n",
        "In the first cell, all relevant python modules have been imported."
      ]
    },
    {
      "metadata": {
        "id": "ajpqH9FdX5J5",
        "colab_type": "code",
        "colab": {}
      },
      "cell_type": "code",
      "source": [
        "## Data Preprocessing\n",
        "import numpy as np\n",
        "import pandas as pd\n",
        "from sklearn import preprocessing\n",
        "%matplotlib inline\n",
        "\n",
        "## Sklearn Models\n",
        "from sklearn.linear_model import LogisticRegression\n",
        "from sklearn.linear_model import SGDClassifier\n",
        "from sklearn.multiclass import OneVsRestClassifier\n",
        "from sklearn.model_selection import train_test_split\n",
        "\n",
        "## Performance Measures\n",
        "from sklearn.metrics import accuracy_score\n",
        "from sklearn.metrics import precision_score\n",
        "from sklearn.metrics import recall_score\n",
        "from sklearn.metrics import f1_score\n",
        "from sklearn.metrics import confusion_matrix\n",
        "from sklearn.metrics import precision_recall_fscore_support as score\n",
        "\n",
        "## Visualisation\n",
        "import matplotlib.pyplot as plt"
      ],
      "execution_count": 0,
      "outputs": []
    },
    {
      "metadata": {
        "id": "BI2TNz01Jyyn",
        "colab_type": "text"
      },
      "cell_type": "markdown",
      "source": [
        "**2.1 Read and understand the data, create a default One-vs-Rest Classifier**\n",
        "\n",
        "*2.1(1) Use the data from the file reduced_mnist.csv in the data directory. Begin by reading the data. Print the following*\n",
        "information:\n",
        "\n",
        "*   Number of data points\n",
        "*   Total number of features\n",
        "*   Unique labels in the data*"
      ]
    },
    {
      "metadata": {
        "id": "6CtjR-MrX54P",
        "colab_type": "code",
        "colab": {
          "base_uri": "https://localhost:8080/",
          "height": 102
        },
        "outputId": "f71699b6-0163-4f7e-87f0-648a66419ee4"
      },
      "cell_type": "code",
      "source": [
        "##### 2.1 (1) #####\n",
        "\n",
        "mnist = pd.read_csv(\"reduced_mnist.csv\")\n",
        "unique_labels = mnist['label'].nunique()\n",
        "# We can see from the dataset all the feature columns starts with \"pixel\"\n",
        "mnist_features = mnist.filter(regex= '^pixel', axis=1)\n",
        "mnist_number_of_examples, mnist_number_of_features = mnist_features.shape\n",
        "datapoints = mnist_number_of_examples * mnist_number_of_features\n",
        "print(f\"The number of examples in the dataset are: {mnist_number_of_examples}\")\n",
        "print(f\"The number of features in the dataset are: {mnist_number_of_features}\")\n",
        "print(f\"The number of datapoints are {datapoints}\")\n",
        "print(f\"\\nThe number of unique labels are: {unique_labels}\")"
      ],
      "execution_count": 5,
      "outputs": [
        {
          "output_type": "stream",
          "text": [
            "The number of examples in the dataset are: 2520\n",
            "The number of features in the dataset are: 784\n",
            "The number of datapoints are 1975680\n",
            "\n",
            "The number of unique labels are: 10\n"
          ],
          "name": "stdout"
        }
      ]
    },
    {
      "metadata": {
        "id": "MhM7FoZoMbhg",
        "colab_type": "text"
      },
      "cell_type": "markdown",
      "source": [
        "**Explanation:** \n",
        "\n",
        "We can see that the number of unique labels are more than 2, therefore it is a multiclass classification problem."
      ]
    },
    {
      "metadata": {
        "id": "aRXSFHn9Lxqd",
        "colab_type": "text"
      },
      "cell_type": "markdown",
      "source": [
        "*2.1(2) Split the data into 70% training data and 30% test data. \n",
        "Fit a One-vs-Rest Classifier (which uses Logistic regression classifier with alpha=1) on training data, and report accuracy, precision, recall on testing data.*"
      ]
    },
    {
      "metadata": {
        "id": "kaBUlw-xYGVh",
        "colab_type": "code",
        "colab": {
          "base_uri": "https://localhost:8080/",
          "height": 614
        },
        "outputId": "2b386ca9-944a-4551-cca4-c06b1cdde3e7"
      },
      "cell_type": "code",
      "source": [
        "# Splitting the dataset i\n",
        "\n",
        "mnist_train, mnist_test = train_test_split(mnist, test_size=0.3, \n",
        "                                           random_state = 2018)\n",
        "\n",
        "# Splitting train and test\n",
        "\n",
        "mnist_train_X = mnist_train.iloc[:,1:]\n",
        "mnist_train_y = mnist_train.iloc[:,:1]\n",
        "\n",
        "mnist_test_X = mnist_test.iloc[:,1:]\n",
        "mnist_test_y = mnist_test.iloc[:,:1]\n",
        "\n",
        "# fitting OnevsRest Classifier\n",
        "\n",
        "alpha = 1\n",
        "ovr = OneVsRestClassifier(LogisticRegression(penalty = 'l1',C = 1/alpha, random_state = 2018))\n",
        "ovr.fit(mnist_train_X,mnist_train_y)\n",
        "\n",
        "# Making predictions\n",
        "\n",
        "y_pred_ovr = ovr.predict(mnist_test_X)\n",
        "\n",
        "ovr_accuracy = accuracy_score(mnist_test_y, y_pred_ovr)\n",
        "ovr_precision = precision_score(mnist_test_y, y_pred_ovr,average = 'weighted')\n",
        "ovr_recall = recall_score(mnist_test_y, y_pred_ovr,average= 'weighted')\n",
        "\n",
        "print(f\"average accuracy of the model is {ovr_accuracy}\")\n",
        "print(f\"average precision of the model is {ovr_precision}\")\n",
        "print(f\"average recall of the model is {ovr_recall}\")\n",
        "\n",
        "#Performance Measures\n",
        "\n",
        "precision_1, recall_1, fscore_1, support_1 = score(mnist_test_y.values.ravel(),\n",
        "                                           y_pred_ovr)\n",
        "\n",
        "#Confusion Metrices\n",
        "\n",
        "model_cm_ovr_l1_1 = confusion_matrix(mnist_test_y.values.ravel(),\n",
        "                                           y_pred_ovr)\n",
        "\n",
        "\n",
        "print(f\"Confusion Matrix for model is: \\n {model_cm_ovr_l1_1} \\n\")\n",
        "\n",
        "accuracy_per_class = np.diag(model_cm_ovr_l1_1)/np.sum(model_cm_ovr_l1_1, axis = 1)\n",
        "\n",
        "Performance_matrix_per_class_1 = pd.DataFrame()\n",
        "Performance_matrix_per_class_1['class'] = np.array(list(range(0,10)))\n",
        "Performance_matrix_per_class_1['accuracy'] = pd.Series(accuracy_per_class)\n",
        "Performance_matrix_per_class_1['precision'] = pd.Series(precision_1)\n",
        "Performance_matrix_per_class_1['recall'] = pd.Series(recall_1)\n",
        "Performance_matrix_per_class_1['fscore'] = pd.Series(fscore_1)\n",
        "Performance_matrix_per_class_1['support'] = pd.Series(support_1)\n",
        "\n",
        "Performance_matrix_per_class_1"
      ],
      "execution_count": 6,
      "outputs": [
        {
          "output_type": "stream",
          "text": [
            "average accuracy of the model is 0.8253968253968254\n",
            "average precision of the model is 0.8278211751410696\n",
            "average recall of the model is 0.8253968253968254\n",
            "Confusion Matrix for model is: \n",
            " [[74  0  1  1  0  0  1  0  7  0]\n",
            " [ 0 94  0  0  0  0  0  0  0  0]\n",
            " [ 0  2 52  3  2  1  5  1  3  4]\n",
            " [ 1  0  2 61  0  5  1  2  3  0]\n",
            " [ 3  1  0  1 60  1  1  1  1  9]\n",
            " [ 1  2  0  1  1 47  0  1 10  1]\n",
            " [ 3  0  0  0  0  2 64  0  1  0]\n",
            " [ 2  0  1  2  1  0  0 66  1  2]\n",
            " [ 2  6  2  4  0  3  2  1 53  4]\n",
            " [ 1  0  0  3  3  1  0  4  1 53]] \n",
            "\n"
          ],
          "name": "stdout"
        },
        {
          "output_type": "execute_result",
          "data": {
            "text/html": [
              "<div>\n",
              "<style scoped>\n",
              "    .dataframe tbody tr th:only-of-type {\n",
              "        vertical-align: middle;\n",
              "    }\n",
              "\n",
              "    .dataframe tbody tr th {\n",
              "        vertical-align: top;\n",
              "    }\n",
              "\n",
              "    .dataframe thead th {\n",
              "        text-align: right;\n",
              "    }\n",
              "</style>\n",
              "<table border=\"1\" class=\"dataframe\">\n",
              "  <thead>\n",
              "    <tr style=\"text-align: right;\">\n",
              "      <th></th>\n",
              "      <th>class</th>\n",
              "      <th>accuracy</th>\n",
              "      <th>precision</th>\n",
              "      <th>recall</th>\n",
              "      <th>fscore</th>\n",
              "      <th>support</th>\n",
              "    </tr>\n",
              "  </thead>\n",
              "  <tbody>\n",
              "    <tr>\n",
              "      <th>0</th>\n",
              "      <td>0</td>\n",
              "      <td>0.880952</td>\n",
              "      <td>0.850575</td>\n",
              "      <td>0.880952</td>\n",
              "      <td>0.865497</td>\n",
              "      <td>84</td>\n",
              "    </tr>\n",
              "    <tr>\n",
              "      <th>1</th>\n",
              "      <td>1</td>\n",
              "      <td>1.000000</td>\n",
              "      <td>0.895238</td>\n",
              "      <td>1.000000</td>\n",
              "      <td>0.944724</td>\n",
              "      <td>94</td>\n",
              "    </tr>\n",
              "    <tr>\n",
              "      <th>2</th>\n",
              "      <td>2</td>\n",
              "      <td>0.712329</td>\n",
              "      <td>0.896552</td>\n",
              "      <td>0.712329</td>\n",
              "      <td>0.793893</td>\n",
              "      <td>73</td>\n",
              "    </tr>\n",
              "    <tr>\n",
              "      <th>3</th>\n",
              "      <td>3</td>\n",
              "      <td>0.813333</td>\n",
              "      <td>0.802632</td>\n",
              "      <td>0.813333</td>\n",
              "      <td>0.807947</td>\n",
              "      <td>75</td>\n",
              "    </tr>\n",
              "    <tr>\n",
              "      <th>4</th>\n",
              "      <td>4</td>\n",
              "      <td>0.769231</td>\n",
              "      <td>0.895522</td>\n",
              "      <td>0.769231</td>\n",
              "      <td>0.827586</td>\n",
              "      <td>78</td>\n",
              "    </tr>\n",
              "    <tr>\n",
              "      <th>5</th>\n",
              "      <td>5</td>\n",
              "      <td>0.734375</td>\n",
              "      <td>0.783333</td>\n",
              "      <td>0.734375</td>\n",
              "      <td>0.758065</td>\n",
              "      <td>64</td>\n",
              "    </tr>\n",
              "    <tr>\n",
              "      <th>6</th>\n",
              "      <td>6</td>\n",
              "      <td>0.914286</td>\n",
              "      <td>0.864865</td>\n",
              "      <td>0.914286</td>\n",
              "      <td>0.888889</td>\n",
              "      <td>70</td>\n",
              "    </tr>\n",
              "    <tr>\n",
              "      <th>7</th>\n",
              "      <td>7</td>\n",
              "      <td>0.880000</td>\n",
              "      <td>0.868421</td>\n",
              "      <td>0.880000</td>\n",
              "      <td>0.874172</td>\n",
              "      <td>75</td>\n",
              "    </tr>\n",
              "    <tr>\n",
              "      <th>8</th>\n",
              "      <td>8</td>\n",
              "      <td>0.688312</td>\n",
              "      <td>0.662500</td>\n",
              "      <td>0.688312</td>\n",
              "      <td>0.675159</td>\n",
              "      <td>77</td>\n",
              "    </tr>\n",
              "    <tr>\n",
              "      <th>9</th>\n",
              "      <td>9</td>\n",
              "      <td>0.803030</td>\n",
              "      <td>0.726027</td>\n",
              "      <td>0.803030</td>\n",
              "      <td>0.762590</td>\n",
              "      <td>66</td>\n",
              "    </tr>\n",
              "  </tbody>\n",
              "</table>\n",
              "</div>"
            ],
            "text/plain": [
              "   class  accuracy  precision    recall    fscore  support\n",
              "0      0  0.880952   0.850575  0.880952  0.865497       84\n",
              "1      1  1.000000   0.895238  1.000000  0.944724       94\n",
              "2      2  0.712329   0.896552  0.712329  0.793893       73\n",
              "3      3  0.813333   0.802632  0.813333  0.807947       75\n",
              "4      4  0.769231   0.895522  0.769231  0.827586       78\n",
              "5      5  0.734375   0.783333  0.734375  0.758065       64\n",
              "6      6  0.914286   0.864865  0.914286  0.888889       70\n",
              "7      7  0.880000   0.868421  0.880000  0.874172       75\n",
              "8      8  0.688312   0.662500  0.688312  0.675159       77\n",
              "9      9  0.803030   0.726027  0.803030  0.762590       66"
            ]
          },
          "metadata": {
            "tags": []
          },
          "execution_count": 6
        }
      ]
    },
    {
      "metadata": {
        "id": "dkmLyR_0So9p",
        "colab_type": "text"
      },
      "cell_type": "markdown",
      "source": [
        "**Explanation**: \n",
        "\n",
        "We can see from the above performance table that the model is being able to predict 1's and 6's accurately, whereas, it not being able to predict 8's and 9's as accurately. Therefore these classes have relatively low performance measures."
      ]
    },
    {
      "metadata": {
        "id": "RcDXp9LSTqWm",
        "colab_type": "text"
      },
      "cell_type": "markdown",
      "source": [
        "**2.2 Choosing the best hyper-parameter**\n",
        "\n",
        "\n",
        "2.2(1) For this section I have created 10 random splits of training data into training and validation data. The\n",
        "best value of alpha from the following set: {0.1, 1, 3, 10, 33, 100, 333, 1000, 3333, 10000, 33333} has been chosen. To choose the best\n",
        "alpha hyperparameter value, I have done the following :\n",
        "\n",
        "\n",
        "*   For each value of hyperparameter, perform 10 random splits of training data into training and validation data\n",
        "as said above.\n",
        "*   For each value of hyperparameter, use its 10 random splits and find the average training and validation\n",
        "accuracy.\n",
        "*   On a graph, plot both the average training accuracy (in red) and average validation accuracy (in blue) w.r.t.\n",
        "each hyperparameter setting. Comment on this graph by identifying regions of overfitting and underfitting.\n",
        "*   Print the best value of alpha hyperparameter.\n"
      ]
    },
    {
      "metadata": {
        "id": "Exnn6qoSYKIC",
        "colab_type": "code",
        "colab": {
          "base_uri": "https://localhost:8080/",
          "height": 338
        },
        "outputId": "4c415024-ddc8-4599-b9ef-f15b08ac93b8"
      },
      "cell_type": "code",
      "source": [
        "## Building the function to calculate training accuracy and validation accuracy for each iteration\n",
        "\n",
        "def runOVRmodel(trials, train_data, penalty_type, penalty_score):\n",
        "\n",
        "   val_acc = 0\n",
        "   train_acc = 0\n",
        "   \n",
        "   for i in range(0,trials):\n",
        "      Dtrain, Dtest = train_test_split(train_data, test_size=0.3)\n",
        "      ovr = OneVsRestClassifier(LogisticRegression(C=1/penalty_score, \n",
        "                                                   penalty=penalty_type))\n",
        "      ovr.fit(Dtrain.iloc[:,1:785], Dtrain.iloc[:,0:1])\n",
        "      y_predict_ovr = ovr.predict(mnist_test_X)\n",
        "      train_acc += accuracy_score(ovr.predict(mnist_train_X), mnist_train_y)\n",
        "      val_acc += accuracy_score(y_predict_ovr, mnist_test_y)\n",
        "      #model_weights += np.append(ovr.intercept_, ovr.coef_)\n",
        "\n",
        "   val_acc /= trials\n",
        "   train_acc /= trials\n",
        "   #model_weights /= trials\n",
        "\n",
        "   return np.round(val_acc, decimals=2), np.round(train_acc, decimals=2) \n",
        "  \n",
        "# Instantiating the required lists\n",
        "\n",
        "alpha_vals = [.1,1,3,10,33,100,333,1000,3333,10000,33333]\n",
        "val_acc = np.zeros(len(alpha_vals))\n",
        "train_acc = np.zeros(len(alpha_vals))\n",
        "index = 0\n",
        "# Iterating the model\n",
        "for l in alpha_vals:\n",
        "   val_acc[index], train_acc[index] = runOVRmodel(10,mnist_train, 'l1', \n",
        "                                                  np.float(l))\n",
        "   index += 1\n",
        "\n",
        "print(\"Training Accuracy: {}\".format(train_acc))\n",
        "print(\"Validation Accuracy: {}\".format(val_acc))\n",
        "\n",
        "# penalty at which validation accuracy is maximum\n",
        "max_index_ovr  = np.argmax(val_acc)\n",
        "best_alpha = alpha_vals[max_index_ovr]\n",
        "print(\"Best Alpha: {}\".format(best_alpha))\n",
        "\n",
        "#plot the accuracy curve\n",
        "plt.plot(range(0,len(alpha_vals)), val_acc, color='b', \n",
        "         label='Validation Accuracy')\n",
        "plt.plot(range(0,len(alpha_vals)), train_acc, color='r', \n",
        "         label='Training Accuracy')\n",
        "#replace the x-axis labels with penalty values\n",
        "plt.xticks(range(0,len(alpha_vals)), alpha_vals, rotation='vertical')\n",
        "\n",
        "#Highlight the best values of alpha\n",
        "plt.plot((max_index_ovr, max_index_ovr), (0, val_acc[max_index_ovr]), \n",
        "         ls='dotted', color='b')\n",
        "\n",
        "\n",
        "#Set the y-axis from 0 to 1.0\n",
        "axes = plt.gca()\n",
        "axes.set_ylim([0, 1.0])\n",
        "\n",
        "plt.legend(loc=\"lower left\")\n",
        "plt.show()"
      ],
      "execution_count": 7,
      "outputs": [
        {
          "output_type": "stream",
          "text": [
            "Training Accuracy: [0.95 0.95 0.95 0.95 0.95 0.96 0.94 0.9  0.84 0.73 0.56]\n",
            "Validation Accuracy: [0.82 0.82 0.83 0.82 0.84 0.84 0.86 0.84 0.79 0.7  0.53]\n",
            "Best Alpha: 333\n"
          ],
          "name": "stdout"
        },
        {
          "output_type": "display_data",
          "data": {
            "image/png": "[encoded data removed]",
            "text/plain": [
              "<matplotlib.figure.Figure at 0x7f098347da20>"
            ]
          },
          "metadata": {
            "tags": []
          }
        }
      ]
    },
    {
      "metadata": {
        "id": "0n54ByeIWNvf",
        "colab_type": "text"
      },
      "cell_type": "markdown",
      "source": [
        "**Explanation**:\n",
        "\n",
        "We can see from the above graph that we can find the best fitting model at Alpha of 333.\n",
        "\n",
        "**Region of Overfit:**\n",
        "we get overfit models for alpha value ranging between 0.1 and 100, because we have very high training accuracy but comparatively low validation accuracy for these values.\n",
        "\n",
        "\n",
        "**Region of Underfit:**\n",
        "we get overfit models for alpha value ranging between 3333 and 33333, because we have low training and validation accuracy for these values."
      ]
    },
    {
      "metadata": {
        "id": "W48qE7WeXxxi",
        "colab_type": "text"
      },
      "cell_type": "markdown",
      "source": [
        "2.2(2)- For this section, I have evaluated the prediction performance on test data and reported the following:\n",
        "\n",
        "\n",
        "*   Total number of non-zero features in the final model.\n",
        "*   The confusion matrix\n",
        "*   Precision, recall and accuracy for each class.\n",
        "\n",
        "\n",
        "Finally, I have discussed if there is any sign of underfitting or overfitting with appropriate reasoning"
      ]
    },
    {
      "metadata": {
        "id": "oZpvW9mwYU7S",
        "colab_type": "code",
        "colab": {
          "base_uri": "https://localhost:8080/",
          "height": 646
        },
        "outputId": "4dbb5d11-56e8-4d16-8b84-dcac0e8fff29"
      },
      "cell_type": "code",
      "source": [
        "#Building a new linear regression model based on best alpha\n",
        "\n",
        "ovr_alpha = OneVsRestClassifier(LogisticRegression(C= 1/best_alpha, \n",
        "                                                   penalty='l1'))\n",
        "ovr_alpha_model = ovr_alpha.fit(mnist_train_X,mnist_train_y)\n",
        "\n",
        "y_pred_ovr_best = ovr_alpha_model.predict(mnist_test_X)\n",
        "\n",
        "#Creating a weight matrix\n",
        "\n",
        "feature_weights_ovr=ovr_alpha_model.coef_[0]\n",
        "Weight_matrix_ovr = pd.DataFrame()\n",
        "Weight_matrix_ovr['Feature'] = pd.Series(list(mnist_features.columns.values))\n",
        "Weight_matrix_ovr['Weights'] = pd.Series(feature_weights_ovr,name= \"Weights\")\n",
        "Weight_matrix_ovr['Abs Weights'] = abs(Weight_matrix_ovr['Weights'])\n",
        "\n",
        "#Masking non-zero features in the weight matrix\n",
        "mask = Weight_matrix_ovr[Weight_matrix_ovr.drop('Feature', axis=1) != 0]\n",
        "shape_of_matrix = mask.loc[mask.dropna(thresh=1).index].shape\n",
        "\n",
        "#Identifying the number of non-zero features \n",
        "print(f\"The number of non-zero features in the matrix is:{shape_of_matrix[0]}\")\n",
        "\n",
        "#Confusion Metrices\n",
        "\n",
        "model_cm_ovr_l1 = confusion_matrix(y_pred_ovr_best, \n",
        "                                   mnist_test_y.values.ravel())\n",
        "print(f\"Confusion Matrix for model with best alpha is: \\n {model_cm_ovr_l1} \\n\")\n",
        "\n",
        "#Performance Measures\n",
        "      \n",
        "accuracy = np.diag(model_cm_ovr_l1)/np.sum(model_cm_ovr_l1, axis = 1)\n",
        "\n",
        "precision, recall, fscore, support = score(mnist_test_y.values.ravel(),\n",
        "                                           y_pred_ovr_best)\n",
        "\n",
        "Performance_matrix_per_class = pd.DataFrame()\n",
        "Performance_matrix_per_class['class'] = np.array(list(range(0,10)))\n",
        "Performance_matrix_per_class['accuracy'] = pd.Series(accuracy)\n",
        "Performance_matrix_per_class['precision'] = pd.Series(precision)\n",
        "Performance_matrix_per_class['recall'] = pd.Series(recall)\n",
        "Performance_matrix_per_class['fscore'] = pd.Series(fscore)\n",
        "Performance_matrix_per_class['support'] = pd.Series(support)\n",
        "\n",
        "print(Performance_matrix_per_class)\n",
        "\n",
        "Performance_comparison = pd.DataFrame()\n",
        "Performance_comparison['class'] = np.array(list(range(0,10)))\n",
        "Performance_comparison['validation accuracy'] = pd.Series(accuracy_per_class)\n",
        "Performance_comparison['testing accuracy'] = pd.Series(accuracy)\n",
        "\n",
        "print(Performance_comparison)\n",
        "print(f\"Average validation accuracy is {np.average(accuracy_per_class)}\")\n",
        "print(f\"Average testing accuracy is {np.average(accuracy)}\")"
      ],
      "execution_count": 8,
      "outputs": [
        {
          "output_type": "stream",
          "text": [
            "The number of non-zero features in the matrix is:86\n",
            "Confusion Matrix for model with best alpha is: \n",
            " [[79  0  0  0  1  1  1  0  1  1]\n",
            " [ 0 94  3  1  1  2  0  0  3  0]\n",
            " [ 1  0 55  2  0  0  0  2  1  0]\n",
            " [ 1  0  2 61  1  4  0  0  2  3]\n",
            " [ 0  0  1  0 69  1  0  1  1  1]\n",
            " [ 0  0  0  7  1 47  2  0  1  2]\n",
            " [ 0  0  6  1  2  1 66  0  1  0]\n",
            " [ 0  0  1  1  1  0  0 69  1  4]\n",
            " [ 3  0  3  1  0  8  1  0 63  1]\n",
            " [ 0  0  2  1  2  0  0  3  3 54]] \n",
            "\n",
            "   class  accuracy  precision    recall    fscore  support\n",
            "0      0  0.940476   0.940476  0.940476  0.940476       84\n",
            "1      1  0.903846   0.903846  1.000000  0.949495       94\n",
            "2      2  0.901639   0.901639  0.753425  0.820896       73\n",
            "3      3  0.824324   0.824324  0.813333  0.818792       75\n",
            "4      4  0.932432   0.932432  0.884615  0.907895       78\n",
            "5      5  0.783333   0.783333  0.734375  0.758065       64\n",
            "6      6  0.857143   0.857143  0.942857  0.897959       70\n",
            "7      7  0.896104   0.896104  0.920000  0.907895       75\n",
            "8      8  0.787500   0.787500  0.818182  0.802548       77\n",
            "9      9  0.830769   0.830769  0.818182  0.824427       66\n",
            "   class  validation accuracy  testing accuracy\n",
            "0      0             0.880952          0.940476\n",
            "1      1             1.000000          0.903846\n",
            "2      2             0.712329          0.901639\n",
            "3      3             0.813333          0.824324\n",
            "4      4             0.769231          0.932432\n",
            "5      5             0.734375          0.783333\n",
            "6      6             0.914286          0.857143\n",
            "7      7             0.880000          0.896104\n",
            "8      8             0.688312          0.787500\n",
            "9      9             0.803030          0.830769\n",
            "Average validation accuracy is 0.8195847956267477\n",
            "Average testing accuracy is 0.8657567762690714\n"
          ],
          "name": "stdout"
        }
      ]
    },
    {
      "metadata": {
        "id": "_Fq7iS3gfzhO",
        "colab_type": "text"
      },
      "cell_type": "markdown",
      "source": [
        "**Explanation**:\n",
        "\n",
        "Based on the above result we can see that there is no such sign of overfitting or underfitting since we are getting reatively high average testing accuracy of the model compared to the validation scores. However, testing accuracy is relatively low for digit 5 and digit 8, indicating that model is not being able to accurately regonize these two digits.  "
      ]
    },
    {
      "metadata": {
        "id": "9cTo2tCRdGls",
        "colab_type": "code",
        "colab": {}
      },
      "cell_type": "code",
      "source": [
        ""
      ],
      "execution_count": 0,
      "outputs": []
    }
  ]
}